{
 "cells": [
  {
   "cell_type": "code",
   "execution_count": 8,
   "id": "4d0d9a32",
   "metadata": {},
   "outputs": [
    {
     "name": "stdout",
     "output_type": "stream",
     "text": [
      "hello world\n"
     ]
    }
   ],
   "source": [
    "# this is a code cell!\n",
    "x = \"hello world\"\n",
    "\n",
    "print(x)"
   ]
  },
  {
   "cell_type": "markdown",
   "id": "a7358f2d",
   "metadata": {},
   "source": [
    "Markdown is basically plain text.\n",
    "\n",
    "Except you an **format** things differntly\n",
    "\n",
    "# This is a Header 1\n",
    "\n",
    "Here is some text, including _italics_\n",
    "\n",
    "# This is a Header 2\n",
    "\n",
    "Here is some other text, with **more bold**"
   ]
  },
  {
   "cell_type": "code",
   "execution_count": null,
   "id": "4c004b43",
   "metadata": {},
   "outputs": [],
   "source": []
  }
 ],
 "metadata": {
  "kernelspec": {
   "display_name": "Python 3 (ipykernel)",
   "language": "python",
   "name": "python3"
  },
  "language_info": {
   "codemirror_mode": {
    "name": "ipython",
    "version": 3
   },
   "file_extension": ".py",
   "mimetype": "text/x-python",
   "name": "python",
   "nbconvert_exporter": "python",
   "pygments_lexer": "ipython3",
   "version": "3.8.13"
  }
 },
 "nbformat": 4,
 "nbformat_minor": 5
}
