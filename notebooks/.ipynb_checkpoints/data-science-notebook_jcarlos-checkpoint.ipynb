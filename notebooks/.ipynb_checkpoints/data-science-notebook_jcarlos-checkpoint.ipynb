{
 "cells": [
  {
   "cell_type": "markdown",
   "id": "stretch-davis",
   "metadata": {
    "_uuid": "1752ce061957fd1ce93d2e4db9494b7b29da7935",
    "papermill": {
     "duration": 0.04692,
     "end_time": "2021-05-07T08:35:59.190175",
     "exception": false,
     "start_time": "2021-05-07T08:35:59.143255",
     "status": "completed"
    },
    "tags": []
   },
   "source": [
    "<center>\n",
    "\n",
    "# Data Science Notebook\n",
    "\n",
    "</center>\n",
    "\n",
    "The goal of this notebook is to get familiar with the Jupyter Notebooks for development. The main characteristic of the notebooks is that they are effective in communicating the development of a project. The notebooks also follows logical and sequencial steps when executing.\n",
    "\n",
    "**Complete the 20 tasks below**"
   ]
  },
  {
   "cell_type": "markdown",
   "id": "afraid-serum",
   "metadata": {
    "_uuid": "9b690f2c8129ad9445c544337375b93246c26668",
    "papermill": {
     "duration": 0.04455,
     "end_time": "2021-05-07T08:35:59.279099",
     "exception": false,
     "start_time": "2021-05-07T08:35:59.234549",
     "status": "completed"
    },
    "tags": []
   },
   "source": [
    "### Task 1: Create a Paragraph explaining the structure of the notebook and its content\n",
    "\n",
    "**Hints**\n",
    "1. Use hyperlinks to pandas library for example\n",
    "2. Use hyperlinks to data sources\n",
    "3. Use markdowns. Headings are useful when reading notebooks\n",
    "___________________________________________________________________________________________________________________\n",
    "___________________________________________________________________________________________________________________\n",
    "\n",
    "\n",
    "In the following code cell, two libraries are used: \n",
    "1. [**numpy (np)**](https://numpy.org/), which offers a large collection of mathematical functions and operations.\n",
    "2. [**pandas (pd)**](https://pandas.pydata.org/), which allows for manipulation and analysis of tables and time series.\n",
    "\n",
    "The function `set_option` from pandas sets the value of an specified option. In this case, we set the floating point output precision to 2 using the option `display.precision`."
   ]
  },
  {
   "cell_type": "code",
   "execution_count": 17,
   "id": "supreme-beatles",
   "metadata": {
    "_uuid": "e855067a1d281ca6634772513ef918aa1c9224f4",
    "execution": {
     "iopub.execute_input": "2021-05-07T08:35:59.459472Z",
     "iopub.status.busy": "2021-05-07T08:35:59.458289Z",
     "iopub.status.idle": "2021-05-07T08:35:59.462927Z",
     "shell.execute_reply": "2021-05-07T08:35:59.463560Z"
    },
    "papermill": {
     "duration": 0.052221,
     "end_time": "2021-05-07T08:35:59.463863",
     "exception": false,
     "start_time": "2021-05-07T08:35:59.411642",
     "status": "completed"
    },
    "tags": []
   },
   "outputs": [],
   "source": [
    "# Importing the libraries\n",
    "import numpy as np\n",
    "import pandas as pd\n",
    "\n",
    "# Override default behavior\n",
    "pd.set_option(\"display.precision\", 2)"
   ]
  },
  {
   "cell_type": "markdown",
   "id": "catholic-remainder",
   "metadata": {
    "_uuid": "e3ae8b8d09f0dd881831253957ca96d086038f7b",
    "papermill": {
     "duration": 0.045851,
     "end_time": "2021-05-07T08:35:59.553832",
     "exception": false,
     "start_time": "2021-05-07T08:35:59.507981",
     "status": "completed"
    },
    "tags": []
   },
   "source": [
    "### Task 2: Explain the reasons of the cell immediately below.\n",
    "\n",
    "From this point on, every code cell must be explained with a markdown cell above it.\n",
    "\n",
    "**Hints**\n",
    "1. Answer the question *Why are you using the cell below?*\n",
    "2. Name the functions used in the cell with proper `code` syntax in the markdown. For example `read_csv` and `head`\n",
    "___________________________________________________________________________________________________________________\n",
    "___________________________________________________________________________________________________________________\n",
    "\n",
    "### Creating a pandas dataframe from an external file\n",
    "\n",
    "In the cell below, we employ the function [`read_csv`](https://pandas.pydata.org/docs/reference/api/pandas.read_csv.html) from pandas to create a dataframe (which we call `df`) using the data from the table `telecom_churn.csv`, located in the directory `data/raw`."
   ]
  },
  {
   "cell_type": "code",
   "execution_count": 18,
   "id": "interesting-dodge",
   "metadata": {
    "_uuid": "f274f88e14b4df01f8f60bd8be5e0cea903a7dd7",
    "execution": {
     "iopub.execute_input": "2021-05-07T08:35:59.646729Z",
     "iopub.status.busy": "2021-05-07T08:35:59.645658Z",
     "iopub.status.idle": "2021-05-07T08:35:59.731091Z",
     "shell.execute_reply": "2021-05-07T08:35:59.731563Z"
    },
    "papermill": {
     "duration": 0.13323,
     "end_time": "2021-05-07T08:35:59.731738",
     "exception": false,
     "start_time": "2021-05-07T08:35:59.598508",
     "status": "completed"
    },
    "tags": []
   },
   "outputs": [],
   "source": [
    "# Import the data\n",
    "df = pd.read_csv(\"../data/raw/telecom_churn.csv\")"
   ]
  },
  {
   "cell_type": "markdown",
   "id": "fb3c6c23",
   "metadata": {},
   "source": [
    "To print the headers and the first five rows of the dataframe `df` we use the function [`head`](https://pandas.pydata.org/docs/reference/api/pandas.DataFrame.head.html)"
   ]
  },
  {
   "cell_type": "code",
   "execution_count": 27,
   "id": "7b688050",
   "metadata": {
    "pycharm": {
     "name": "#%%\n"
    }
   },
   "outputs": [
    {
     "name": "stdout",
     "output_type": "stream",
     "text": [
      "  State  Account length  Area code International plan Voice mail plan  \\\n",
      "0    KS             128        415                 No             Yes   \n",
      "1    OH             107        415                 No             Yes   \n",
      "2    NJ             137        415                 No              No   \n",
      "3    OH              84        408                Yes              No   \n",
      "4    OK              75        415                Yes              No   \n",
      "\n",
      "   Number vmail messages  Total day minutes  Total day calls  \\\n",
      "0                     25              265.1              110   \n",
      "1                     26              161.6              123   \n",
      "2                      0              243.4              114   \n",
      "3                      0              299.4               71   \n",
      "4                      0              166.7              113   \n",
      "\n",
      "   Total day charge  Total eve minutes  Total eve calls  Total eve charge  \\\n",
      "0             45.07              197.4               99             16.78   \n",
      "1             27.47              195.5              103             16.62   \n",
      "2             41.38              121.2              110             10.30   \n",
      "3             50.90               61.9               88              5.26   \n",
      "4             28.34              148.3              122             12.61   \n",
      "\n",
      "   Total night minutes  Total night calls  Total night charge  \\\n",
      "0                244.7                 91               11.01   \n",
      "1                254.4                103               11.45   \n",
      "2                162.6                104                7.32   \n",
      "3                196.9                 89                8.86   \n",
      "4                186.9                121                8.41   \n",
      "\n",
      "   Total intl minutes  Total intl calls  Total intl charge  \\\n",
      "0                10.0                 3               2.70   \n",
      "1                13.7                 3               3.70   \n",
      "2                12.2                 5               3.29   \n",
      "3                 6.6                 7               1.78   \n",
      "4                10.1                 3               2.73   \n",
      "\n",
      "   Customer service calls  Churn  \n",
      "0                       1      0  \n",
      "1                       1      0  \n",
      "2                       0      0  \n",
      "3                       2      0  \n",
      "4                       3      0  \n"
     ]
    }
   ],
   "source": [
    "# Task 3: Print the header of the dataframe df\n",
    "\n",
    "print(df.head())\n",
    "\n",
    "# Expected Output\n",
    "#   | State | Account length | Area code | International plan | Voice mail plan | ...\n",
    "# 0 |    KS |            128 |       415 |                 No |             Yes | ...\n",
    "# 1 |    OH |            107 |       415 |                 No |             Yes | ...\n",
    "# 2 |    NJ |            137 |       415 |                 No |              No | ...\n",
    "# 3 |    OH |             84 |       408 |                Yes |              No | ...\n",
    "# 4 |    OK |             75 |       415 |                Yes |              No | ..."
   ]
  },
  {
   "cell_type": "markdown",
   "id": "97d8f971",
   "metadata": {},
   "source": [
    "### Dimensions of dataframe\n",
    "We can also get the number of columns and rows in a dataframe using the function [`shape`](https://pandas.pydata.org/docs/reference/api/pandas.DataFrame.shape.html), which returns a tuple with the dimensions of the dataframe. The number of rows is the first number of the tuple (`shape[0]`) and the number of columns is the second (`shape[1]`)."
   ]
  },
  {
   "cell_type": "code",
   "execution_count": 26,
   "id": "inside-stephen",
   "metadata": {
    "_uuid": "85347476c8a704b43ddc6b5ec54ac0059b2b740a",
    "execution": {
     "iopub.execute_input": "2021-05-07T08:36:00.008269Z",
     "iopub.status.busy": "2021-05-07T08:36:00.007269Z",
     "iopub.status.idle": "2021-05-07T08:36:00.015284Z",
     "shell.execute_reply": "2021-05-07T08:36:00.014261Z"
    },
    "papermill": {
     "duration": 0.055704,
     "end_time": "2021-05-07T08:36:00.015548",
     "exception": false,
     "start_time": "2021-05-07T08:35:59.959844",
     "status": "completed"
    },
    "tags": []
   },
   "outputs": [
    {
     "name": "stdout",
     "output_type": "stream",
     "text": [
      "Dataframe has 20 columns and 3333 records\n"
     ]
    }
   ],
   "source": [
    "# Task 4: Get the shape of the dataframe df\n",
    "\n",
    "number_records = df.shape[0]\n",
    "number_columns = df.shape[1]\n",
    "\n",
    "print(\"Dataframe has \" + str(number_columns) + \" columns and \" + str(number_records) + \" records\")\n",
    "\n",
    "# Expected Output\n",
    "# Dataframe has 20 columns and 3333 records"
   ]
  },
  {
   "cell_type": "markdown",
   "id": "59266d1a",
   "metadata": {},
   "source": [
    "### Name of columns\n",
    "We may obtain a list with the name of the columns of the dataframe using the attribute `columns`. The columns of dataframe `df` are shown below by iterating over the list:"
   ]
  },
  {
   "cell_type": "code",
   "execution_count": 25,
   "id": "2829c9f8",
   "metadata": {
    "_uuid": "216df4e9a25d0baa8b506e1ec72df488d78367eb",
    "execution": {
     "iopub.execute_input": "2021-05-07T08:36:00.205275Z",
     "iopub.status.busy": "2021-05-07T08:36:00.204509Z",
     "iopub.status.idle": "2021-05-07T08:36:00.208939Z",
     "shell.execute_reply": "2021-05-07T08:36:00.208036Z"
    },
    "papermill": {
     "duration": 0.055147,
     "end_time": "2021-05-07T08:36:00.209149",
     "exception": false,
     "start_time": "2021-05-07T08:36:00.154002",
     "status": "completed"
    },
    "tags": []
   },
   "outputs": [
    {
     "name": "stdout",
     "output_type": "stream",
     "text": [
      "State\n",
      "Account length\n",
      "Area code\n",
      "International plan\n",
      "Voice mail plan\n",
      "Number vmail messages\n",
      "Total day minutes\n",
      "Total day calls\n",
      "Total day charge\n",
      "Total eve minutes\n",
      "Total eve calls\n",
      "Total eve charge\n",
      "Total night minutes\n",
      "Total night calls\n",
      "Total night charge\n",
      "Total intl minutes\n",
      "Total intl calls\n",
      "Total intl charge\n",
      "Customer service calls\n",
      "Churn\n"
     ]
    }
   ],
   "source": [
    "# Task 5: Get the name of the columns in the dataframe df\n",
    "\n",
    "for col in df.columns:\n",
    "    print(col)"
   ]
  },
  {
   "cell_type": "markdown",
   "id": "53fb3972",
   "metadata": {},
   "source": [
    "### Information of dataframe\n",
    "We may get general information on the dataframe, including the index dtype and columns, non-null values and memory usage, by using the attribute `info()`, with several [parameters](https://pandas.pydata.org/docs/reference/api/pandas.DataFrame.info.html) available."
   ]
  },
  {
   "cell_type": "code",
   "execution_count": 24,
   "id": "bored-moldova",
   "metadata": {
    "_uuid": "2bcfb060dcbda4fe1720eaf3c2e5c003a891dd77",
    "execution": {
     "iopub.execute_input": "2021-05-07T08:36:00.401510Z",
     "iopub.status.busy": "2021-05-07T08:36:00.400861Z",
     "iopub.status.idle": "2021-05-07T08:36:00.422875Z",
     "shell.execute_reply": "2021-05-07T08:36:00.422342Z"
    },
    "papermill": {
     "duration": 0.071027,
     "end_time": "2021-05-07T08:36:00.423026",
     "exception": false,
     "start_time": "2021-05-07T08:36:00.351999",
     "status": "completed"
    },
    "tags": []
   },
   "outputs": [
    {
     "name": "stdout",
     "output_type": "stream",
     "text": [
      "<class 'pandas.core.frame.DataFrame'>\n",
      "RangeIndex: 3333 entries, 0 to 3332\n",
      "Data columns (total 20 columns):\n",
      " #   Column                  Non-Null Count  Dtype  \n",
      "---  ------                  --------------  -----  \n",
      " 0   State                   3333 non-null   object \n",
      " 1   Account length          3333 non-null   int64  \n",
      " 2   Area code               3333 non-null   int64  \n",
      " 3   International plan      3333 non-null   object \n",
      " 4   Voice mail plan         3333 non-null   object \n",
      " 5   Number vmail messages   3333 non-null   int64  \n",
      " 6   Total day minutes       3333 non-null   float64\n",
      " 7   Total day calls         3333 non-null   int64  \n",
      " 8   Total day charge        3333 non-null   float64\n",
      " 9   Total eve minutes       3333 non-null   float64\n",
      " 10  Total eve calls         3333 non-null   int64  \n",
      " 11  Total eve charge        3333 non-null   float64\n",
      " 12  Total night minutes     3333 non-null   float64\n",
      " 13  Total night calls       3333 non-null   int64  \n",
      " 14  Total night charge      3333 non-null   float64\n",
      " 15  Total intl minutes      3333 non-null   float64\n",
      " 16  Total intl calls        3333 non-null   int64  \n",
      " 17  Total intl charge       3333 non-null   float64\n",
      " 18  Customer service calls  3333 non-null   int64  \n",
      " 19  Churn                   3333 non-null   int64  \n",
      "dtypes: float64(8), int64(9), object(3)\n",
      "memory usage: 520.9+ KB\n",
      "None\n"
     ]
    }
   ],
   "source": [
    "# Task 6: Get the general information of the dataframe df\n",
    "\n",
    "\n",
    "print(df.info())"
   ]
  },
  {
   "cell_type": "markdown",
   "id": "93dd4ccb",
   "metadata": {},
   "source": [
    "### Column Datatype\n",
    "To check the datatype of the columns in a dataframe, we may use the attribute [`dtypes`](https://pandas.pydata.org/docs/reference/api/pandas.DataFrame.dtypes.html):"
   ]
  },
  {
   "cell_type": "code",
   "execution_count": 23,
   "id": "proprietary-novelty",
   "metadata": {
    "_uuid": "16a0073ab34daea8192eb549c4c8a94e33b34a13",
    "execution": {
     "iopub.execute_input": "2021-05-07T08:36:00.620940Z",
     "iopub.status.busy": "2021-05-07T08:36:00.620112Z",
     "iopub.status.idle": "2021-05-07T08:36:00.623233Z",
     "shell.execute_reply": "2021-05-07T08:36:00.622698Z"
    },
    "papermill": {
     "duration": 0.059473,
     "end_time": "2021-05-07T08:36:00.623377",
     "exception": false,
     "start_time": "2021-05-07T08:36:00.563904",
     "status": "completed"
    },
    "tags": []
   },
   "outputs": [
    {
     "name": "stdout",
     "output_type": "stream",
     "text": [
      "State                      object\n",
      "Account length              int64\n",
      "Area code                   int64\n",
      "International plan         object\n",
      "Voice mail plan            object\n",
      "Number vmail messages       int64\n",
      "Total day minutes         float64\n",
      "Total day calls             int64\n",
      "Total day charge          float64\n",
      "Total eve minutes         float64\n",
      "Total eve calls             int64\n",
      "Total eve charge          float64\n",
      "Total night minutes       float64\n",
      "Total night calls           int64\n",
      "Total night charge        float64\n",
      "Total intl minutes        float64\n",
      "Total intl calls            int64\n",
      "Total intl charge         float64\n",
      "Customer service calls      int64\n",
      "Churn                       int64\n",
      "dtype: object\n"
     ]
    }
   ],
   "source": [
    "# Task 7: Change the datatype of the column \"Churn\" in the dataframe df to int64 datatype\n",
    "\n",
    "print(df.dtypes)"
   ]
  },
  {
   "cell_type": "markdown",
   "id": "fb459bf4",
   "metadata": {},
   "source": [
    "Column 'Churn' is of datatype 'boolean'. To change it and keep the rest of the dataframe types identical, we can simply use the [`astype()`](https://pandas.pydata.org/docs/reference/api/pandas.DataFrame.astype.html) method and indicate the new datatype for the selected column "
   ]
  },
  {
   "cell_type": "code",
   "execution_count": 18,
   "id": "31807f79",
   "metadata": {},
   "outputs": [
    {
     "name": "stdout",
     "output_type": "stream",
     "text": [
      "State                      object\n",
      "Account length              int64\n",
      "Area code                   int64\n",
      "International plan         object\n",
      "Voice mail plan            object\n",
      "Number vmail messages       int64\n",
      "Total day minutes         float64\n",
      "Total day calls             int64\n",
      "Total day charge          float64\n",
      "Total eve minutes         float64\n",
      "Total eve calls             int64\n",
      "Total eve charge          float64\n",
      "Total night minutes       float64\n",
      "Total night calls           int64\n",
      "Total night charge        float64\n",
      "Total intl minutes        float64\n",
      "Total intl calls            int64\n",
      "Total intl charge         float64\n",
      "Customer service calls      int64\n",
      "Churn                       int64\n",
      "dtype: object\n"
     ]
    }
   ],
   "source": [
    "df = df.astype({'Churn': int})\n",
    "print(df.dtypes)"
   ]
  },
  {
   "cell_type": "markdown",
   "id": "0cfdeedd",
   "metadata": {},
   "source": [
    "### Dataframe statistics\n",
    "To method [`describe()`](https://pandas.pydata.org/docs/reference/api/pandas.DataFrame.describe.html) provides statistics of the dataframe such as the mean, standard deviation and percentiles, depending on the datatype "
   ]
  },
  {
   "cell_type": "code",
   "execution_count": 19,
   "id": "improving-spencer",
   "metadata": {
    "_uuid": "24e1d394f938980403a736421b4cf855ddb8ef8c",
    "execution": {
     "iopub.execute_input": "2021-05-07T08:36:00.813975Z",
     "iopub.status.busy": "2021-05-07T08:36:00.813039Z",
     "iopub.status.idle": "2021-05-07T08:36:00.874306Z",
     "shell.execute_reply": "2021-05-07T08:36:00.874785Z"
    },
    "papermill": {
     "duration": 0.113807,
     "end_time": "2021-05-07T08:36:00.874959",
     "exception": false,
     "start_time": "2021-05-07T08:36:00.761152",
     "status": "completed"
    },
    "tags": []
   },
   "outputs": [
    {
     "name": "stdout",
     "output_type": "stream",
     "text": [
      "       Account length  Area code  Number vmail messages  Total day minutes  \\\n",
      "count         3333.00    3333.00                3333.00            3333.00   \n",
      "mean           101.06     437.18                   8.10             179.78   \n",
      "std             39.82      42.37                  13.69              54.47   \n",
      "min              1.00     408.00                   0.00               0.00   \n",
      "25%             74.00     408.00                   0.00             143.70   \n",
      "50%            101.00     415.00                   0.00             179.40   \n",
      "75%            127.00     510.00                  20.00             216.40   \n",
      "max            243.00     510.00                  51.00             350.80   \n",
      "\n",
      "       Total day calls  Total day charge  Total eve minutes  Total eve calls  \\\n",
      "count          3333.00           3333.00            3333.00          3333.00   \n",
      "mean            100.44             30.56             200.98           100.11   \n",
      "std              20.07              9.26              50.71            19.92   \n",
      "min               0.00              0.00               0.00             0.00   \n",
      "25%              87.00             24.43             166.60            87.00   \n",
      "50%             101.00             30.50             201.40           100.00   \n",
      "75%             114.00             36.79             235.30           114.00   \n",
      "max             165.00             59.64             363.70           170.00   \n",
      "\n",
      "       Total eve charge  Total night minutes  Total night calls  \\\n",
      "count           3333.00              3333.00            3333.00   \n",
      "mean              17.08               200.87             100.11   \n",
      "std                4.31                50.57              19.57   \n",
      "min                0.00                23.20              33.00   \n",
      "25%               14.16               167.00              87.00   \n",
      "50%               17.12               201.20             100.00   \n",
      "75%               20.00               235.30             113.00   \n",
      "max               30.91               395.00             175.00   \n",
      "\n",
      "       Total night charge  Total intl minutes  Total intl calls  \\\n",
      "count             3333.00             3333.00           3333.00   \n",
      "mean                 9.04               10.24              4.48   \n",
      "std                  2.28                2.79              2.46   \n",
      "min                  1.04                0.00              0.00   \n",
      "25%                  7.52                8.50              3.00   \n",
      "50%                  9.05               10.30              4.00   \n",
      "75%                 10.59               12.10              6.00   \n",
      "max                 17.77               20.00             20.00   \n",
      "\n",
      "       Total intl charge  Customer service calls    Churn  \n",
      "count            3333.00                 3333.00  3333.00  \n",
      "mean                2.76                    1.56     0.14  \n",
      "std                 0.75                    1.32     0.35  \n",
      "min                 0.00                    0.00     0.00  \n",
      "25%                 2.30                    1.00     0.00  \n",
      "50%                 2.78                    1.00     0.00  \n",
      "75%                 3.27                    2.00     0.00  \n",
      "max                 5.40                    9.00     1.00  \n"
     ]
    }
   ],
   "source": [
    "# Task 8: Get the statistical summary of the numerical features in the dataframe df\n",
    "# Your code here\n",
    "print(df.describe())"
   ]
  },
  {
   "cell_type": "markdown",
   "id": "8bbccded",
   "metadata": {},
   "source": [
    "As shown in _Task 7_, the non-numerical columns in `df` are 'State', 'International plan' and 'Voice mail plan'. We can apply the `describe` method to these columns to get the number of non-NA/null elements (`count`), the number of unique elements (`unique`), the most common element (`top`) and the frequency of the most common element (`freq`)."
   ]
  },
  {
   "cell_type": "code",
   "execution_count": 22,
   "id": "tested-handbook",
   "metadata": {
    "_uuid": "c1bd67bc0b915dbac429152c649a7c118770d824",
    "execution": {
     "iopub.execute_input": "2021-05-07T08:36:01.074495Z",
     "iopub.status.busy": "2021-05-07T08:36:01.073544Z",
     "iopub.status.idle": "2021-05-07T08:36:01.106935Z",
     "shell.execute_reply": "2021-05-07T08:36:01.107411Z"
    },
    "papermill": {
     "duration": 0.090009,
     "end_time": "2021-05-07T08:36:01.107585",
     "exception": false,
     "start_time": "2021-05-07T08:36:01.017576",
     "status": "completed"
    },
    "tags": []
   },
   "outputs": [
    {
     "name": "stdout",
     "output_type": "stream",
     "text": [
      "       State International plan Voice mail plan\n",
      "count   3333               3333            3333\n",
      "unique    51                  2               2\n",
      "top       WV                 No              No\n",
      "freq     106               3010            2411\n"
     ]
    }
   ],
   "source": [
    "# Task 9: Get the summary of the non-numerical features in the dataframe df\n",
    "# Hint: Use the code from previous task giving arguments to the function\n",
    "\n",
    "print(df[['State', 'International plan', 'Voice mail plan']].describe())\n",
    "\n",
    "# Expected Output:\n",
    "#\n",
    "# _______|State | Internation plan | Voice mail plan\n",
    "# ---------------------------------------------------\n",
    "# count  | 3333 |             3333 |            3333\n",
    "# unique |   51 |                2 |               2\n",
    "# top    |   WV |               No |              No\n",
    "# freq   |  106 |             3010 |            2411"
   ]
  },
  {
   "cell_type": "markdown",
   "id": "5b20dacc",
   "metadata": {},
   "source": [
    "We may also get the distribution of a column elements using the function [`value_counts`](https://pandas.pydata.org/docs/reference/api/pandas.DataFrame.value_counts.html):"
   ]
  },
  {
   "cell_type": "code",
   "execution_count": 28,
   "id": "motivated-mileage",
   "metadata": {
    "_uuid": "7acac4f33f2229215aa7818b10f4dfb1fafd96af",
    "papermill": {
     "duration": 0.047002,
     "end_time": "2021-05-07T08:36:01.201882",
     "exception": false,
     "start_time": "2021-05-07T08:36:01.154880",
     "status": "completed"
    },
    "pycharm": {
     "name": "#%%\n"
    },
    "tags": []
   },
   "outputs": [
    {
     "name": "stdout",
     "output_type": "stream",
     "text": [
      "Non-normalized\n",
      "0    2850\n",
      "1     483\n",
      "Name: Churn, dtype: int64\n",
      "\n",
      "Normalized\n",
      "0    0.86\n",
      "1    0.14\n",
      "Name: Churn, dtype: float64\n"
     ]
    }
   ],
   "source": [
    "# Task 10: Get the distribution and the normalized distribution of Churn.\n",
    "# Hint: Count the values for 0 and 1\n",
    "\n",
    "print('Non-normalized')\n",
    "print(df['Churn'].value_counts())\n",
    "print('\\nNormalized')\n",
    "print(df['Churn'].value_counts(normalize=True))\n",
    "\n",
    "# Expected output\n",
    "# Non-normalized\n",
    "#     | Churn\n",
    "#-----|-------\n",
    "#  0  | 2850\n",
    "#  1  |  453\n",
    "\n",
    "# Normalized\n",
    "#     | Churn\n",
    "#-----|-------\n",
    "#  0  | 0.86\n",
    "#  1  | 0.14"
   ]
  },
  {
   "cell_type": "markdown",
   "id": "7befa5d9",
   "metadata": {},
   "source": [
    "### Sorting a dataframe\n",
    "We may sort a dataframe using the method [`sort_values`](https://pandas.pydata.org/docs/reference/api/pandas.DataFrame.sort_values.html) and specifying the column by which we want to sort."
   ]
  },
  {
   "cell_type": "code",
   "execution_count": 29,
   "id": "promising-smooth",
   "metadata": {
    "_uuid": "419200266ac1e7d0e96ba1a20d756c9d87eb2541",
    "execution": {
     "iopub.execute_input": "2021-05-07T08:36:01.716905Z",
     "iopub.status.busy": "2021-05-07T08:36:01.716252Z",
     "iopub.status.idle": "2021-05-07T08:36:01.737568Z",
     "shell.execute_reply": "2021-05-07T08:36:01.738124Z"
    },
    "papermill": {
     "duration": 0.07572,
     "end_time": "2021-05-07T08:36:01.738320",
     "exception": false,
     "start_time": "2021-05-07T08:36:01.662600",
     "status": "completed"
    },
    "tags": []
   },
   "outputs": [
    {
     "name": "stdout",
     "output_type": "stream",
     "text": [
      "     State  Account length  Area code International plan Voice mail plan  \\\n",
      "365     CO             154        415                 No              No   \n",
      "985     NY              64        415                Yes              No   \n",
      "2594    OH             115        510                Yes              No   \n",
      "156     OH              83        415                 No              No   \n",
      "605     MO             112        415                 No              No   \n",
      "...    ...             ...        ...                ...             ...   \n",
      "1986    WI              70        415                 No              No   \n",
      "2753    OH             134        415                 No              No   \n",
      "2736    OK             127        510                 No             Yes   \n",
      "1397    VT             101        510                 No              No   \n",
      "1345    SD              98        415                 No              No   \n",
      "\n",
      "      Number vmail messages  Total day minutes  Total day calls  \\\n",
      "365                       0              350.8               75   \n",
      "985                       0              346.8               55   \n",
      "2594                      0              345.3               81   \n",
      "156                       0              337.4              120   \n",
      "605                       0              335.5               77   \n",
      "...                     ...                ...              ...   \n",
      "1986                      0                7.9              100   \n",
      "2753                      0                7.8               86   \n",
      "2736                     27                2.6              113   \n",
      "1397                      0                0.0                0   \n",
      "1345                      0                0.0                0   \n",
      "\n",
      "      Total day charge  Total eve minutes  Total eve calls  Total eve charge  \\\n",
      "365              59.64              216.5               94             18.40   \n",
      "985              58.96              249.5               79             21.21   \n",
      "2594             58.70              203.4              106             17.29   \n",
      "156              57.36              227.4              116             19.33   \n",
      "605              57.04              212.5              109             18.06   \n",
      "...                ...                ...              ...               ...   \n",
      "1986              1.34              136.4               83             11.59   \n",
      "2753              1.33              171.4              100             14.57   \n",
      "2736              0.44              254.0              102             21.59   \n",
      "1397              0.00              192.1              119             16.33   \n",
      "1345              0.00              159.6              130             13.57   \n",
      "\n",
      "      Total night minutes  Total night calls  Total night charge  \\\n",
      "365                 253.9                100               11.43   \n",
      "985                 275.4                102               12.39   \n",
      "2594                217.5                107                9.79   \n",
      "156                 153.9                114                6.93   \n",
      "605                 265.0                132               11.93   \n",
      "...                   ...                ...                 ...   \n",
      "1986                156.6                 89                7.05   \n",
      "2753                186.5                 80                8.39   \n",
      "2736                242.7                156               10.92   \n",
      "1397                168.8                 95                7.60   \n",
      "1345                167.1                 88                7.52   \n",
      "\n",
      "      Total intl minutes  Total intl calls  Total intl charge  \\\n",
      "365                 10.1                 9               2.73   \n",
      "985                 13.3                 9               3.59   \n",
      "2594                11.8                 8               3.19   \n",
      "156                 15.8                 7               4.27   \n",
      "605                 12.7                 8               3.43   \n",
      "...                  ...               ...                ...   \n",
      "1986                12.1                 1               3.27   \n",
      "2753                12.9                 2               3.48   \n",
      "2736                 9.2                 5               2.48   \n",
      "1397                 7.2                 4               1.94   \n",
      "1345                 6.8                 1               1.84   \n",
      "\n",
      "      Customer service calls  Churn  \n",
      "365                        1      1  \n",
      "985                        1      1  \n",
      "2594                       1      1  \n",
      "156                        0      1  \n",
      "605                        2      1  \n",
      "...                      ...    ...  \n",
      "1986                       0      0  \n",
      "2753                       2      0  \n",
      "2736                       3      0  \n",
      "1397                       1      0  \n",
      "1345                       4      1  \n",
      "\n",
      "[3333 rows x 20 columns]\n"
     ]
    }
   ],
   "source": [
    "# Task 11: Sort the values by daily amount charged and print the results to the cell\n",
    "\n",
    "print(df.sort_values('Total day charge', ascending=False))\n",
    "\n",
    "# Expected Output\n",
    "#      | State | Account length | Area code | International plan | Voice mail plan | ...\n",
    "#  365 |    CO |            154 |       415 |                 No |              No | ...\n",
    "#  985 |    NY |             64 |       415 |                Yes |              No | ...\n",
    "# 2594 |    OH |            115 |       510 |                Yes |              No | ...\n",
    "#  156 |    OH |             83 |       415 |                 No |              No | ...\n",
    "#  605 |    MO |            112 |       415 |                 No |              No | ..."
   ]
  },
  {
   "cell_type": "code",
   "execution_count": 12,
   "id": "widespread-maintenance",
   "metadata": {
    "_uuid": "db028bb799847b257a1107226ec599484596bc1e",
    "execution": {
     "iopub.execute_input": "2021-05-07T08:36:01.939941Z",
     "iopub.status.busy": "2021-05-07T08:36:01.939272Z",
     "iopub.status.idle": "2021-05-07T08:36:01.972086Z",
     "shell.execute_reply": "2021-05-07T08:36:01.971535Z"
    },
    "papermill": {
     "duration": 0.085068,
     "end_time": "2021-05-07T08:36:01.972232",
     "exception": false,
     "start_time": "2021-05-07T08:36:01.887164",
     "status": "completed"
    },
    "tags": []
   },
   "outputs": [],
   "source": [
    "# Task 12: Add the column Churn to the sorting by daily amount charged of previous task\n",
    "# Your code here\n",
    "\n",
    "# Expected Output\n",
    "#      | State | Account length | Area code | International plan | Voice mail plan | ...\n",
    "#  688 |    MN |             13 |       510 |                 No |             Yes | ...\n",
    "# 2259 |    NC |            210 |       415 |                 No |             Yes | ...\n",
    "#  534 |    LA |             67 |       510 |                 No |              No | ...\n",
    "#  575 |    SD |            114 |       415 |                 No |             Yes | ...\n",
    "# 2858 |    AL |            141 |       510 |                 No |             Yes | ..."
   ]
  },
  {
   "cell_type": "markdown",
   "id": "1e773c58",
   "metadata": {},
   "source": [
    "We may also transform a column of the dataframe into a Pandas series by using the function [`squeeze()`](https://pandas.pydata.org/docs/reference/api/pandas.DataFrame.squeeze.html). Statistics of series may be obtained from `describe()`, as explained in Task 8."
   ]
  },
  {
   "cell_type": "code",
   "execution_count": 30,
   "id": "ordinary-prevention",
   "metadata": {
    "_uuid": "b020796a83bc9e10b1bc8e9c6439fc006302d999",
    "execution": {
     "iopub.execute_input": "2021-05-07T08:36:02.180259Z",
     "iopub.status.busy": "2021-05-07T08:36:02.179584Z",
     "iopub.status.idle": "2021-05-07T08:36:02.183209Z",
     "shell.execute_reply": "2021-05-07T08:36:02.182614Z"
    },
    "papermill": {
     "duration": 0.058982,
     "end_time": "2021-05-07T08:36:02.183348",
     "exception": false,
     "start_time": "2021-05-07T08:36:02.124366",
     "status": "completed"
    },
    "tags": []
   },
   "outputs": [
    {
     "name": "stdout",
     "output_type": "stream",
     "text": [
      "count    3333.00\n",
      "mean        0.14\n",
      "std         0.35\n",
      "min         0.00\n",
      "25%         0.00\n",
      "50%         0.00\n",
      "75%         0.00\n",
      "max         1.00\n",
      "Name: Churn, dtype: float64\n"
     ]
    }
   ],
   "source": [
    "# Task 13: Get column statistics from pandas series. Use the pandas series for Churn\n",
    "churn_series = df['Churn'].squeeze()\n",
    "print(churn_series.describe())"
   ]
  },
  {
   "cell_type": "markdown",
   "id": "db297ed7",
   "metadata": {},
   "source": [
    "### Accesing specific cells\n",
    "To get all rows whose 'Churn' value is 1, we may use [`loc`](https://pandas.pydata.org/docs/reference/api/pandas.DataFrame.loc.html), which access a group of rows by specifying a label. Statistics of the resulting dataset can be obtained using `describe()`, as explained in Task 8."
   ]
  },
  {
   "cell_type": "code",
   "execution_count": 31,
   "id": "every-consent",
   "metadata": {
    "_uuid": "3712d185e50d44c65128468c603b120b75786c84",
    "execution": {
     "iopub.execute_input": "2021-05-07T08:36:02.397809Z",
     "iopub.status.busy": "2021-05-07T08:36:02.395328Z",
     "iopub.status.idle": "2021-05-07T08:36:02.402500Z",
     "shell.execute_reply": "2021-05-07T08:36:02.401801Z"
    },
    "papermill": {
     "duration": 0.065332,
     "end_time": "2021-05-07T08:36:02.402644",
     "exception": false,
     "start_time": "2021-05-07T08:36:02.337312",
     "status": "completed"
    },
    "tags": []
   },
   "outputs": [
    {
     "name": "stdout",
     "output_type": "stream",
     "text": [
      "       Account length  Area code  Number vmail messages  Total day minutes  \\\n",
      "count          483.00     483.00                 483.00             483.00   \n",
      "mean           102.66     437.82                   5.12             206.91   \n",
      "std             39.47      42.79                  11.86              69.00   \n",
      "min              1.00     408.00                   0.00               0.00   \n",
      "25%             76.00     408.00                   0.00             153.25   \n",
      "50%            103.00     415.00                   0.00             217.60   \n",
      "75%            127.00     510.00                   0.00             265.95   \n",
      "max            225.00     510.00                  48.00             350.80   \n",
      "\n",
      "       Total day calls  Total day charge  Total eve minutes  Total eve calls  \\\n",
      "count           483.00            483.00             483.00           483.00   \n",
      "mean            101.34             35.18             212.41           100.56   \n",
      "std              21.58             11.73              51.73            19.72   \n",
      "min               0.00              0.00              70.90            48.00   \n",
      "25%              87.50             26.05             177.10            87.00   \n",
      "50%             103.00             36.99             211.30           101.00   \n",
      "75%             116.50             45.21             249.45           114.00   \n",
      "max             165.00             59.64             363.70           168.00   \n",
      "\n",
      "       Total eve charge  Total night minutes  Total night calls  \\\n",
      "count            483.00               483.00             483.00   \n",
      "mean              18.05               205.23             100.40   \n",
      "std                4.40                47.13              19.95   \n",
      "min                6.03                47.40              49.00   \n",
      "25%               15.05               171.25              85.00   \n",
      "50%               17.96               204.80             100.00   \n",
      "75%               21.20               239.85             115.00   \n",
      "max               30.91               354.90             158.00   \n",
      "\n",
      "       Total night charge  Total intl minutes  Total intl calls  \\\n",
      "count              483.00              483.00            483.00   \n",
      "mean                 9.24               10.70              4.16   \n",
      "std                  2.12                2.79              2.55   \n",
      "min                  2.13                2.00              1.00   \n",
      "25%                  7.71                8.80              2.00   \n",
      "50%                  9.22               10.60              4.00   \n",
      "75%                 10.79               12.80              5.00   \n",
      "max                 15.97               20.00             20.00   \n",
      "\n",
      "       Total intl charge  Customer service calls  Churn  \n",
      "count             483.00                  483.00  483.0  \n",
      "mean                2.89                    2.23    1.0  \n",
      "std                 0.75                    1.85    0.0  \n",
      "min                 0.54                    0.00    1.0  \n",
      "25%                 2.38                    1.00    1.0  \n",
      "50%                 2.86                    2.00    1.0  \n",
      "75%                 3.46                    4.00    1.0  \n",
      "max                 5.40                    9.00    1.0  \n"
     ]
    }
   ],
   "source": [
    "# Task 14: Boolean index (or where searching) can be done for pandas dataframe. Get a summary of statistics \n",
    "# for the the calls having 1 as Churn\n",
    "churn_one = df.loc[df['Churn'] == 1]\n",
    "print(churn_one.describe())"
   ]
  },
  {
   "cell_type": "markdown",
   "id": "e38badfb",
   "metadata": {},
   "source": [
    "The specific stats of each column are shown below. The average time spent (`mean`) on the phone during daytime ('Total day minutes') is 206.91 minutes. Alternatively, we can use `loc` and the function [`mean`](https://pandas.pydata.org/docs/reference/api/pandas.DataFrame.mean.html) to get only the results for 'Total day minutes'."
   ]
  },
  {
   "cell_type": "code",
   "execution_count": 41,
   "id": "smart-nevada",
   "metadata": {
    "_uuid": "126e527e04c244c71edd9eac3abcc4a0a8bcd2cb",
    "papermill": {
     "duration": 0.050421,
     "end_time": "2021-05-07T08:36:02.504910",
     "exception": false,
     "start_time": "2021-05-07T08:36:02.454489",
     "status": "completed"
    },
    "pycharm": {
     "name": "#%%\n"
    },
    "tags": []
   },
   "outputs": [
    {
     "name": "stdout",
     "output_type": "stream",
     "text": [
      "Average total day 206.91\n"
     ]
    }
   ],
   "source": [
    "# Task 15: Answer how much time (on average) do churned users spend on the phone during daytime?\n",
    "\n",
    "ave_total_day_minutes = df.loc[df['Churn'] == 1, 'Total day minutes'].mean()\n",
    "print('Average total day {:.2f}'.format(ave_total_day_minutes))\n",
    "\n",
    "# Expected Output\n",
    "# Average total day 206.91 minutes"
   ]
  },
  {
   "cell_type": "markdown",
   "id": "0703653f",
   "metadata": {},
   "source": [
    "To estimate the maximum length of int. calls among loyal user who do not have an international plan, it is convenient to filter `df` in to a second dataframe, which I will call `df2`. This dataframe will only contain values on which 'Churn == 0' and 'Total intl minutes'. Then, we can use the function [`max`](https://pandas.pydata.org/docs/reference/api/pandas.DataFrame.max.html) to get the maximum value of an specific column."
   ]
  },
  {
   "cell_type": "code",
   "execution_count": 42,
   "id": "f2c8be83",
   "metadata": {
    "pycharm": {
     "name": "#%%\n"
    }
   },
   "outputs": [
    {
     "name": "stdout",
     "output_type": "stream",
     "text": [
      "18.9 minutes\n"
     ]
    }
   ],
   "source": [
    "# Task 16: Answer what is the maximum length of international calls among loyal users (`Churn == 0`) who \n",
    "# do not have an international plan?\n",
    "\n",
    "df2 = df.loc[(df['International plan'] == 'No') & (df['Churn'] == 0)]\n",
    "print('{} minutes'.format(df2['Total intl minutes'].max()))\n",
    "\n",
    "# Expected Output\n",
    "# 18.9 minutes"
   ]
  },
  {
   "cell_type": "markdown",
   "id": "2b2edb6e",
   "metadata": {},
   "source": [
    "We can also access specific columns by naming them. If additionally we want only the top `n` rows, we may use the function [`head(n)`](https://pandas.pydata.org/docs/reference/api/pandas.DataFrame.head.html)"
   ]
  },
  {
   "cell_type": "code",
   "execution_count": 49,
   "id": "seasonal-minority",
   "metadata": {
    "_uuid": "69353301d299fd09c3114afef0778693a163418e",
    "papermill": {
     "duration": 0.052485,
     "end_time": "2021-05-07T08:36:02.968770",
     "exception": false,
     "start_time": "2021-05-07T08:36:02.916285",
     "status": "completed"
    },
    "pycharm": {
     "name": "#%%\n"
    },
    "tags": []
   },
   "outputs": [
    {
     "name": "stdout",
     "output_type": "stream",
     "text": [
      "  State  Account length  Area code\n",
      "0    KS             128        415\n",
      "1    OH             107        415\n",
      "2    NJ             137        415\n",
      "3    OH              84        408\n",
      "4    OK              75        415\n",
      "5    AL             118        510\n"
     ]
    }
   ],
   "source": [
    "# Task 17: Give the values of the rows with index from 0 to 5 (inclusive) and columns labeled from State to Area Code\n",
    "\n",
    "print(df[['State', 'Account length', 'Area code']].head(6))\n",
    "\n",
    "# Expected Output\n",
    "#   | State | Account length | Area code\n",
    "# 0 | KS    | 128            |       415\n",
    "# 1 | OH    | 107            |       415\n",
    "# 2 | NJ    | 137            |       415\n",
    "# 3 | OH    |  84            |       408\n",
    "# 4 | OK    |  75            |       415\n",
    "# 5 | AL    | 118            |       510"
   ]
  },
  {
   "cell_type": "markdown",
   "id": "5525a8db",
   "metadata": {},
   "source": [
    "We may also extract cell values by index using the function [`iloc`](https://pandas.pydata.org/docs/reference/api/pandas.DataFrame.iloc.html). For example, if we want to extract all values in rows 0 to 5 from columns 'State' to 'Area Code', we may use `iloc` provided we know the index of those columns are in the range 0-2"
   ]
  },
  {
   "cell_type": "code",
   "execution_count": 45,
   "id": "hollywood-seven",
   "metadata": {
    "_uuid": "0088ea1feeb310133ff979007bbf10f27554faee",
    "execution": {
     "iopub.execute_input": "2021-05-07T08:36:03.208145Z",
     "iopub.status.busy": "2021-05-07T08:36:03.207483Z",
     "iopub.status.idle": "2021-05-07T08:36:03.211391Z",
     "shell.execute_reply": "2021-05-07T08:36:03.210854Z"
    },
    "papermill": {
     "duration": 0.066669,
     "end_time": "2021-05-07T08:36:03.211530",
     "exception": false,
     "start_time": "2021-05-07T08:36:03.144861",
     "status": "completed"
    },
    "tags": []
   },
   "outputs": [
    {
     "name": "stdout",
     "output_type": "stream",
     "text": [
      "  State  Account length  Area code\n",
      "0    KS             128        415\n",
      "1    OH             107        415\n",
      "2    NJ             137        415\n",
      "3    OH              84        408\n",
      "4    OK              75        415\n",
      "5    AL             118        510\n"
     ]
    }
   ],
   "source": [
    "# Task 18: Give the values of the first five rows in the first three columns\n",
    "\n",
    "print(df.iloc[0:6, 0:3])  # Note the index range goes from the first index up to, but including, \n",
    "                          # the index after the last desired value\n",
    "\n",
    "# Expected Output\n",
    "#   | State | Account length | Area code\n",
    "# 0 | KS    | 128            |       415\n",
    "# 1 | OH    | 107            |       415\n",
    "# 2 | NJ    | 137            |       415\n",
    "# 3 | OH    |  84            |       408\n",
    "# 4 | OK    |  75            |       415"
   ]
  },
  {
   "cell_type": "markdown",
   "id": "6a1de650",
   "metadata": {},
   "source": [
    "### Installing new libraries through `pip`\n",
    "We may install additional libraries using the library [`sys`](https://docs.python.org/3/library/sys.html) and the package manager [`pip`](https://pip.pypa.io/en/stable/). In addition, we use an exclamation mark (!) to execute commands on the underlying operating system.\n",
    "\n",
    "In the code below, we install the library [`seaborn`](https://seaborn.pydata.org/), which is a data visualization library based on matplotlib."
   ]
  },
  {
   "cell_type": "code",
   "execution_count": 8,
   "id": "suited-boston",
   "metadata": {
    "_uuid": "c809a62f4d1077993a0f0f2d36d1066c108ca23d",
    "execution": {
     "iopub.execute_input": "2021-05-07T08:36:07.141509Z",
     "iopub.status.busy": "2021-05-07T08:36:07.140756Z",
     "iopub.status.idle": "2021-05-07T08:36:08.112015Z",
     "shell.execute_reply": "2021-05-07T08:36:08.112554Z"
    },
    "papermill": {
     "duration": 1.038479,
     "end_time": "2021-05-07T08:36:08.112754",
     "exception": false,
     "start_time": "2021-05-07T08:36:07.074275",
     "status": "completed"
    },
    "tags": []
   },
   "outputs": [
    {
     "name": "stdout",
     "output_type": "stream",
     "text": [
      "Requirement already satisfied: seaborn in /Users/juanrosas/opt/miniconda3/envs/testjupyter_env/lib/python3.8/site-packages (0.11.2)\n",
      "Requirement already satisfied: scipy>=1.0 in /Users/juanrosas/opt/miniconda3/envs/testjupyter_env/lib/python3.8/site-packages (from seaborn) (1.7.3)\n",
      "Requirement already satisfied: numpy>=1.15 in /Users/juanrosas/opt/miniconda3/envs/testjupyter_env/lib/python3.8/site-packages (from seaborn) (1.22.3)\n",
      "Requirement already satisfied: matplotlib>=2.2 in /Users/juanrosas/opt/miniconda3/envs/testjupyter_env/lib/python3.8/site-packages (from seaborn) (3.5.1)\n",
      "Requirement already satisfied: pandas>=0.23 in /Users/juanrosas/opt/miniconda3/envs/testjupyter_env/lib/python3.8/site-packages (from seaborn) (1.4.2)\n",
      "Requirement already satisfied: pillow>=6.2.0 in /Users/juanrosas/opt/miniconda3/envs/testjupyter_env/lib/python3.8/site-packages (from matplotlib>=2.2->seaborn) (9.2.0)\n",
      "Requirement already satisfied: fonttools>=4.22.0 in /Users/juanrosas/opt/miniconda3/envs/testjupyter_env/lib/python3.8/site-packages (from matplotlib>=2.2->seaborn) (4.25.0)\n",
      "Requirement already satisfied: packaging>=20.0 in /Users/juanrosas/opt/miniconda3/envs/testjupyter_env/lib/python3.8/site-packages (from matplotlib>=2.2->seaborn) (21.3)\n",
      "Requirement already satisfied: kiwisolver>=1.0.1 in /Users/juanrosas/opt/miniconda3/envs/testjupyter_env/lib/python3.8/site-packages (from matplotlib>=2.2->seaborn) (1.4.2)\n",
      "Requirement already satisfied: cycler>=0.10 in /Users/juanrosas/opt/miniconda3/envs/testjupyter_env/lib/python3.8/site-packages (from matplotlib>=2.2->seaborn) (0.11.0)\n",
      "Requirement already satisfied: python-dateutil>=2.7 in /Users/juanrosas/opt/miniconda3/envs/testjupyter_env/lib/python3.8/site-packages (from matplotlib>=2.2->seaborn) (2.8.2)\n",
      "Requirement already satisfied: pyparsing>=2.2.1 in /Users/juanrosas/opt/miniconda3/envs/testjupyter_env/lib/python3.8/site-packages (from matplotlib>=2.2->seaborn) (3.0.4)\n",
      "Requirement already satisfied: pytz>=2020.1 in /Users/juanrosas/opt/miniconda3/envs/testjupyter_env/lib/python3.8/site-packages (from pandas>=0.23->seaborn) (2022.1)\n",
      "Requirement already satisfied: six>=1.5 in /Users/juanrosas/opt/miniconda3/envs/testjupyter_env/lib/python3.8/site-packages (from python-dateutil>=2.7->matplotlib>=2.2->seaborn) (1.16.0)\n"
     ]
    }
   ],
   "source": [
    "# Task 17: Install the seaborn library directly from the notebook. Use pip to install it\n",
    "import sys\n",
    "!{sys.executable} -m pip install seaborn"
   ]
  },
  {
   "cell_type": "code",
   "execution_count": 9,
   "id": "cc977f56",
   "metadata": {
    "pycharm": {
     "name": "#%%\n"
    }
   },
   "outputs": [],
   "source": [
    "import seaborn as sns\n",
    "\n",
    "# Graphics in retina format are more sharp and legible\n",
    "%config InlineBackend.figure_format = 'retina'"
   ]
  },
  {
   "cell_type": "markdown",
   "id": "89901b3d",
   "metadata": {},
   "source": [
    "As an example of `seaborn`, we may use the function [`countplot`](https://seaborn.pydata.org/generated/seaborn.countplot.html) to plot the number of people that have international plans as a function of Churn "
   ]
  },
  {
   "cell_type": "code",
   "execution_count": 22,
   "id": "middle-broadcast",
   "metadata": {
    "_uuid": "ae3bb6cdde2a6d72112e6076d92b35f2f2caaa3e",
    "execution": {
     "iopub.execute_input": "2021-05-07T08:36:08.244679Z",
     "iopub.status.busy": "2021-05-07T08:36:08.243948Z",
     "iopub.status.idle": "2021-05-07T08:36:08.441927Z",
     "shell.execute_reply": "2021-05-07T08:36:08.441208Z"
    },
    "papermill": {
     "duration": 0.264496,
     "end_time": "2021-05-07T08:36:08.442097",
     "exception": false,
     "start_time": "2021-05-07T08:36:08.177601",
     "status": "completed"
    },
    "tags": []
   },
   "outputs": [
    {
     "data": {
      "text/plain": [
       "<AxesSubplot:xlabel='Churn', ylabel='count'>"
      ]
     },
     "execution_count": 22,
     "metadata": {},
     "output_type": "execute_result"
    },
    {
     "data": {
      "image/png": "[encoded data removed]",
      "text/plain": [
       "<Figure size 432x288 with 1 Axes>"
      ]
     },
     "metadata": {
      "image/png": {
       "height": 266,
       "width": 398
      }
     },
     "output_type": "display_data"
    }
   ],
   "source": [
    "# Task 18: Use a count plot from seaborn to show the International Plan split by Churn values\n",
    "sns.countplot(x ='Churn', data = df[['International plan', 'Churn']])"
   ]
  },
  {
   "cell_type": "code",
   "execution_count": 22,
   "id": "recognized-sunday",
   "metadata": {
    "_uuid": "75cf7fe86ae75e01d49a07fb52fe5c8ce1c6a334",
    "execution": {
     "iopub.execute_input": "2021-05-07T08:36:08.715170Z",
     "iopub.status.busy": "2021-05-07T08:36:08.714500Z",
     "iopub.status.idle": "2021-05-07T08:36:08.767848Z",
     "shell.execute_reply": "2021-05-07T08:36:08.768395Z"
    },
    "papermill": {
     "duration": 0.127022,
     "end_time": "2021-05-07T08:36:08.768579",
     "exception": false,
     "start_time": "2021-05-07T08:36:08.641557",
     "status": "completed"
    },
    "tags": []
   },
   "outputs": [],
   "source": [
    "# Task 19: Display the Customer Service Calls split by Churn value in a table. Use pandas function to do it\n",
    "# Your code here\n",
    "\n",
    "# Customer service calls |    0 |    1 |    2 |    3 |    4 |    5 |    6 |    7 |    8 |    9 |  All\n",
    "# Churn                  |      |      |      |      |      |      |      |      |      |      |\n",
    "#                      0 |  605 | 1059 |  672 |  385 |   90 |   26 |    8 |    4 |    1 |    0 |  2850\n",
    "#                      1 |   92 |  122 |   87 |   44 |   76 |   40 |   14 |    5 |    1 |    2 |   483\n",
    "#                    All |  697 | 1181 |  759 |  429 |  166 |   66 |   22 |    9 |    2 |    2 |  3333"
   ]
  },
  {
   "cell_type": "code",
   "execution_count": null,
   "id": "statistical-nylon",
   "metadata": {
    "_uuid": "37b91ac20b481d221d97515aa46c9cda713a6991",
    "execution": {
     "iopub.execute_input": "2021-05-07T08:36:09.429250Z",
     "iopub.status.busy": "2021-05-07T08:36:09.428514Z",
     "iopub.status.idle": "2021-05-07T08:36:09.477478Z",
     "shell.execute_reply": "2021-05-07T08:36:09.478009Z"
    },
    "papermill": {
     "duration": 0.119036,
     "end_time": "2021-05-07T08:36:09.478236",
     "exception": false,
     "start_time": "2021-05-07T08:36:09.359200",
     "status": "completed"
    },
    "pycharm": {
     "is_executing": true,
     "name": "#%%\n"
    },
    "tags": []
   },
   "outputs": [],
   "source": [
    "# Task 20: Explain in a Markdown below the following code the working logic of the code. For example, what the 'where searching' select from the dataframe df\n",
    "df[\"Many_service_calls\"] = (df[\"Customer service calls\"] > 3).astype(\"int\")\n",
    "sns.countplot(x=\"Many_service_calls\", hue=\"Churn\", data=df);"
   ]
  }
 ],
 "metadata": {
  "kernelspec": {
   "display_name": "Python 3 (ipykernel)",
   "language": "python",
   "name": "python3"
  },
  "language_info": {
   "codemirror_mode": {
    "name": "ipython",
    "version": 3
   },
   "file_extension": ".py",
   "mimetype": "text/x-python",
   "name": "python",
   "nbconvert_exporter": "python",
   "pygments_lexer": "ipython3",
   "version": "3.8.13"
  },
  "papermill": {
   "default_parameters": {},
   "duration": 18.526667,
   "end_time": "2021-05-07T08:36:10.909084",
   "environment_variables": {},
   "exception": null,
   "input_path": "__notebook__.ipynb",
   "output_path": "__notebook__.ipynb",
   "parameters": {},
   "start_time": "2021-05-07T08:35:52.382417",
   "version": "2.3.2"
  }
 },
 "nbformat": 4,
 "nbformat_minor": 5
}
