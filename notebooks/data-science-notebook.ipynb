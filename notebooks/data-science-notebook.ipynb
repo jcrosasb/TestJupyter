{
 "cells": [
  {
   "cell_type": "markdown",
   "id": "stretch-davis",
   "metadata": {
    "_uuid": "1752ce061957fd1ce93d2e4db9494b7b29da7935",
    "papermill": {
     "duration": 0.04692,
     "end_time": "2021-05-07T08:35:59.190175",
     "exception": false,
     "start_time": "2021-05-07T08:35:59.143255",
     "status": "completed"
    },
    "tags": []
   },
   "source": [
    "<center>\n",
    "\n",
    "# Data Science Notebook\n",
    "\n",
    "</center>\n",
    "\n",
    "The goal of this notebook is to get familiar with the Jupyter Notebooks for development. The main characteristic of the notebooks is that they are effective in communicating the development of a project. The notebooks also follows logical and sequencial steps when executing.\n",
    "\n",
    "**Complete the 20 tasks below**"
   ]
  },
  {
   "cell_type": "markdown",
   "id": "afraid-serum",
   "metadata": {
    "_uuid": "9b690f2c8129ad9445c544337375b93246c26668",
    "papermill": {
     "duration": 0.04455,
     "end_time": "2021-05-07T08:35:59.279099",
     "exception": false,
     "start_time": "2021-05-07T08:35:59.234549",
     "status": "completed"
    },
    "tags": []
   },
   "source": [
    "### Task 1: Create a Paragraph explaining the structure of the notebook and its content\n",
    "\n",
    "**Hints**\n",
    "1. Use hyperlinks to pandas library for example\n",
    "2. Use hyperlinks to data sources\n",
    "3. Use markdowns. Headings are useful when reading notebooks\n",
    "___________________________________________________________________________________________________________________\n",
    "\n",
    "In the following code, two libraries are used: \n",
    "1. [**numpy**](https://numpy.org/), which offers a large collection of mathematical functions and operations.\n",
    "2. [**pandas**](https://pandas.pydata.org/), which allows for manupulation and analysis of tables and time series."
   ]
  },
  {
   "cell_type": "code",
   "execution_count": 2,
   "id": "supreme-beatles",
   "metadata": {
    "_uuid": "e855067a1d281ca6634772513ef918aa1c9224f4",
    "execution": {
     "iopub.execute_input": "2021-05-07T08:35:59.459472Z",
     "iopub.status.busy": "2021-05-07T08:35:59.458289Z",
     "iopub.status.idle": "2021-05-07T08:35:59.462927Z",
     "shell.execute_reply": "2021-05-07T08:35:59.463560Z"
    },
    "papermill": {
     "duration": 0.052221,
     "end_time": "2021-05-07T08:35:59.463863",
     "exception": false,
     "start_time": "2021-05-07T08:35:59.411642",
     "status": "completed"
    },
    "tags": []
   },
   "outputs": [],
   "source": [
    "# Importing the libraries\n",
    "import numpy as np\n",
    "import pandas as pd\n",
    "\n",
    "# Override default behavior\n",
    "pd.set_option(\"display.precision\", 2)"
   ]
  },
  {
   "cell_type": "markdown",
   "id": "catholic-remainder",
   "metadata": {
    "_uuid": "e3ae8b8d09f0dd881831253957ca96d086038f7b",
    "papermill": {
     "duration": 0.045851,
     "end_time": "2021-05-07T08:35:59.553832",
     "exception": false,
     "start_time": "2021-05-07T08:35:59.507981",
     "status": "completed"
    },
    "tags": []
   },
   "source": [
    "### Task 2: Explain the reasons of the cell immediately below.\n",
    "\n",
    "From this point on, every code cell must be explained with a markdown cell above it.\n",
    "\n",
    "**Hints**\n",
    "1. Answer the question *Why are you using the cell below?*\n",
    "2. Name the functions used in the cell with proper `code` syntax in the markdown. For example `read_csv` and `head`"
   ]
  },
  {
   "cell_type": "code",
   "execution_count": 3,
   "id": "interesting-dodge",
   "metadata": {
    "_uuid": "f274f88e14b4df01f8f60bd8be5e0cea903a7dd7",
    "execution": {
     "iopub.execute_input": "2021-05-07T08:35:59.646729Z",
     "iopub.status.busy": "2021-05-07T08:35:59.645658Z",
     "iopub.status.idle": "2021-05-07T08:35:59.731091Z",
     "shell.execute_reply": "2021-05-07T08:35:59.731563Z"
    },
    "papermill": {
     "duration": 0.13323,
     "end_time": "2021-05-07T08:35:59.731738",
     "exception": false,
     "start_time": "2021-05-07T08:35:59.598508",
     "status": "completed"
    },
    "tags": []
   },
   "outputs": [],
   "source": [
    "# Import the data\n",
    "df = pd.read_csv(\"../data/raw/telecom_churn.csv\")"
   ]
  },
  {
   "cell_type": "code",
   "execution_count": 3,
   "id": "88bebde5",
   "metadata": {
    "pycharm": {
     "name": "#%%\n"
    }
   },
   "outputs": [],
   "source": [
    "# Task 3: Print the header of the dataframe df\n",
    "# Your code here\n",
    "\n",
    "# Expected Output\n",
    "#   | State | Account length | Area code | International plan | Voice mail plan | ...\n",
    "# 0 |    KS |            128 |       415 |                 No |             Yes | ...\n",
    "# 1 |    OH |            107 |       415 |                 No |             Yes | ...\n",
    "# 2 |    NJ |            137 |       415 |                 No |              No | ...\n",
    "# 3 |    OH |             84 |       408 |                Yes |              No | ...\n",
    "# 4 |    OK |             75 |       415 |                Yes |              No | ..."
   ]
  },
  {
   "cell_type": "code",
   "execution_count": 4,
   "id": "inside-stephen",
   "metadata": {
    "_uuid": "85347476c8a704b43ddc6b5ec54ac0059b2b740a",
    "execution": {
     "iopub.execute_input": "2021-05-07T08:36:00.008269Z",
     "iopub.status.busy": "2021-05-07T08:36:00.007269Z",
     "iopub.status.idle": "2021-05-07T08:36:00.015284Z",
     "shell.execute_reply": "2021-05-07T08:36:00.014261Z"
    },
    "papermill": {
     "duration": 0.055704,
     "end_time": "2021-05-07T08:36:00.015548",
     "exception": false,
     "start_time": "2021-05-07T08:35:59.959844",
     "status": "completed"
    },
    "tags": []
   },
   "outputs": [],
   "source": [
    "# Task 4: Get the shape of the dataframe df\n",
    "# Your code here\n",
    "\n",
    "# Expected Output\n",
    "# Dataframe has 20 columns and 3333 records"
   ]
  },
  {
   "cell_type": "code",
   "execution_count": 5,
   "id": "third-teach",
   "metadata": {
    "_uuid": "216df4e9a25d0baa8b506e1ec72df488d78367eb",
    "execution": {
     "iopub.execute_input": "2021-05-07T08:36:00.205275Z",
     "iopub.status.busy": "2021-05-07T08:36:00.204509Z",
     "iopub.status.idle": "2021-05-07T08:36:00.208939Z",
     "shell.execute_reply": "2021-05-07T08:36:00.208036Z"
    },
    "papermill": {
     "duration": 0.055147,
     "end_time": "2021-05-07T08:36:00.209149",
     "exception": false,
     "start_time": "2021-05-07T08:36:00.154002",
     "status": "completed"
    },
    "tags": []
   },
   "outputs": [],
   "source": [
    "# Task 5: Get the name of the columns in the dataframe df\n",
    "# Your code here"
   ]
  },
  {
   "cell_type": "code",
   "execution_count": 6,
   "id": "bored-moldova",
   "metadata": {
    "_uuid": "2bcfb060dcbda4fe1720eaf3c2e5c003a891dd77",
    "execution": {
     "iopub.execute_input": "2021-05-07T08:36:00.401510Z",
     "iopub.status.busy": "2021-05-07T08:36:00.400861Z",
     "iopub.status.idle": "2021-05-07T08:36:00.422875Z",
     "shell.execute_reply": "2021-05-07T08:36:00.422342Z"
    },
    "papermill": {
     "duration": 0.071027,
     "end_time": "2021-05-07T08:36:00.423026",
     "exception": false,
     "start_time": "2021-05-07T08:36:00.351999",
     "status": "completed"
    },
    "tags": []
   },
   "outputs": [],
   "source": [
    "# Task 6: Get the general information of the dataframe df\n",
    "# Your code here"
   ]
  },
  {
   "cell_type": "code",
   "execution_count": 7,
   "id": "proprietary-novelty",
   "metadata": {
    "_uuid": "16a0073ab34daea8192eb549c4c8a94e33b34a13",
    "execution": {
     "iopub.execute_input": "2021-05-07T08:36:00.620940Z",
     "iopub.status.busy": "2021-05-07T08:36:00.620112Z",
     "iopub.status.idle": "2021-05-07T08:36:00.623233Z",
     "shell.execute_reply": "2021-05-07T08:36:00.622698Z"
    },
    "papermill": {
     "duration": 0.059473,
     "end_time": "2021-05-07T08:36:00.623377",
     "exception": false,
     "start_time": "2021-05-07T08:36:00.563904",
     "status": "completed"
    },
    "tags": []
   },
   "outputs": [],
   "source": [
    "# Task 7: Change the datatype of the column \"Churn\" in the dataframe df to int64 datatype\n",
    "# Your code here"
   ]
  },
  {
   "cell_type": "code",
   "execution_count": 8,
   "id": "improving-spencer",
   "metadata": {
    "_uuid": "24e1d394f938980403a736421b4cf855ddb8ef8c",
    "execution": {
     "iopub.execute_input": "2021-05-07T08:36:00.813975Z",
     "iopub.status.busy": "2021-05-07T08:36:00.813039Z",
     "iopub.status.idle": "2021-05-07T08:36:00.874306Z",
     "shell.execute_reply": "2021-05-07T08:36:00.874785Z"
    },
    "papermill": {
     "duration": 0.113807,
     "end_time": "2021-05-07T08:36:00.874959",
     "exception": false,
     "start_time": "2021-05-07T08:36:00.761152",
     "status": "completed"
    },
    "tags": []
   },
   "outputs": [],
   "source": [
    "# Task 8: Get the statistical summary of the numerical features in the dataframe df\n",
    "# Your code here"
   ]
  },
  {
   "cell_type": "code",
   "execution_count": 9,
   "id": "tested-handbook",
   "metadata": {
    "_uuid": "c1bd67bc0b915dbac429152c649a7c118770d824",
    "execution": {
     "iopub.execute_input": "2021-05-07T08:36:01.074495Z",
     "iopub.status.busy": "2021-05-07T08:36:01.073544Z",
     "iopub.status.idle": "2021-05-07T08:36:01.106935Z",
     "shell.execute_reply": "2021-05-07T08:36:01.107411Z"
    },
    "papermill": {
     "duration": 0.090009,
     "end_time": "2021-05-07T08:36:01.107585",
     "exception": false,
     "start_time": "2021-05-07T08:36:01.017576",
     "status": "completed"
    },
    "tags": []
   },
   "outputs": [],
   "source": [
    "# Task 9: Get the summary of the non-numerical features in the dataframe df\n",
    "# Hint: Use the code from previous task giving arguments to the function\n",
    "\n",
    "# Your code here\n",
    "\n",
    "# Expected Output:\n",
    "#\n",
    "# _______|State | Internation plan | Voice mail plan\n",
    "# ---------------------------------------------------\n",
    "# count  | 3333 |             3333 |            3333\n",
    "# unique |   51 |                2 |               2\n",
    "# top    |   WV |               No |              No\n",
    "# freq   |  106 |             3010 |            2411"
   ]
  },
  {
   "cell_type": "code",
   "execution_count": 10,
   "id": "motivated-mileage",
   "metadata": {
    "_uuid": "7acac4f33f2229215aa7818b10f4dfb1fafd96af",
    "papermill": {
     "duration": 0.047002,
     "end_time": "2021-05-07T08:36:01.201882",
     "exception": false,
     "start_time": "2021-05-07T08:36:01.154880",
     "status": "completed"
    },
    "pycharm": {
     "name": "#%%\n"
    },
    "tags": []
   },
   "outputs": [],
   "source": [
    "# Task 10: Get the distribution and the normalized distribution of Churn.\n",
    "# Hint: Count the values for 0 and 1\n",
    "\n",
    "# Your code here\n",
    "\n",
    "# Expected output\n",
    "# Non-normalized\n",
    "#     | Churn\n",
    "#-----|-------\n",
    "#  0  | 2850\n",
    "#  1  |  453\n",
    "\n",
    "# Normalized\n",
    "#     | Churn\n",
    "#-----|-------\n",
    "#  0  | 0.86\n",
    "#  1  | 0.14"
   ]
  },
  {
   "cell_type": "code",
   "execution_count": 11,
   "id": "promising-smooth",
   "metadata": {
    "_uuid": "419200266ac1e7d0e96ba1a20d756c9d87eb2541",
    "execution": {
     "iopub.execute_input": "2021-05-07T08:36:01.716905Z",
     "iopub.status.busy": "2021-05-07T08:36:01.716252Z",
     "iopub.status.idle": "2021-05-07T08:36:01.737568Z",
     "shell.execute_reply": "2021-05-07T08:36:01.738124Z"
    },
    "papermill": {
     "duration": 0.07572,
     "end_time": "2021-05-07T08:36:01.738320",
     "exception": false,
     "start_time": "2021-05-07T08:36:01.662600",
     "status": "completed"
    },
    "tags": []
   },
   "outputs": [],
   "source": [
    "# Task 11: Sort the values by daily amount charged and print the results to the cell\n",
    "# Your code here\n",
    "\n",
    "# Expected Output\n",
    "#      | State | Account length | Area code | International plan | Voice mail plan | ...\n",
    "#  365 |    CO |            154 |       415 |                 No |              No | ...\n",
    "#  985 |    NY |             64 |       415 |                Yes |              No | ...\n",
    "# 2594 |    OH |            115 |       510 |                Yes |              No | ...\n",
    "#  156 |    OH |             83 |       415 |                 No |              No | ...\n",
    "#  605 |    MO |            112 |       415 |                 No |              No | ..."
   ]
  },
  {
   "cell_type": "code",
   "execution_count": 12,
   "id": "widespread-maintenance",
   "metadata": {
    "_uuid": "db028bb799847b257a1107226ec599484596bc1e",
    "execution": {
     "iopub.execute_input": "2021-05-07T08:36:01.939941Z",
     "iopub.status.busy": "2021-05-07T08:36:01.939272Z",
     "iopub.status.idle": "2021-05-07T08:36:01.972086Z",
     "shell.execute_reply": "2021-05-07T08:36:01.971535Z"
    },
    "papermill": {
     "duration": 0.085068,
     "end_time": "2021-05-07T08:36:01.972232",
     "exception": false,
     "start_time": "2021-05-07T08:36:01.887164",
     "status": "completed"
    },
    "tags": []
   },
   "outputs": [],
   "source": [
    "# Task 12: Add the column Churn to the sorting by daily amount charged of previous task\n",
    "# Your code here\n",
    "\n",
    "# Expected Output\n",
    "#      | State | Account length | Area code | International plan | Voice mail plan | ...\n",
    "#  688 |    MN |             13 |       510 |                 No |             Yes | ...\n",
    "# 2259 |    NC |            210 |       415 |                 No |             Yes | ...\n",
    "#  534 |    LA |             67 |       510 |                 No |              No | ...\n",
    "#  575 |    SD |            114 |       415 |                 No |             Yes | ...\n",
    "# 2858 |    AL |            141 |       510 |                 No |             Yes | ..."
   ]
  },
  {
   "cell_type": "code",
   "execution_count": 13,
   "id": "ordinary-prevention",
   "metadata": {
    "_uuid": "b020796a83bc9e10b1bc8e9c6439fc006302d999",
    "execution": {
     "iopub.execute_input": "2021-05-07T08:36:02.180259Z",
     "iopub.status.busy": "2021-05-07T08:36:02.179584Z",
     "iopub.status.idle": "2021-05-07T08:36:02.183209Z",
     "shell.execute_reply": "2021-05-07T08:36:02.182614Z"
    },
    "papermill": {
     "duration": 0.058982,
     "end_time": "2021-05-07T08:36:02.183348",
     "exception": false,
     "start_time": "2021-05-07T08:36:02.124366",
     "status": "completed"
    },
    "tags": []
   },
   "outputs": [],
   "source": [
    "# Task 13: Get column statistics from pandas series. Use the pandas series for Churn\n",
    "# Your code here"
   ]
  },
  {
   "cell_type": "code",
   "execution_count": 14,
   "id": "every-consent",
   "metadata": {
    "_uuid": "3712d185e50d44c65128468c603b120b75786c84",
    "execution": {
     "iopub.execute_input": "2021-05-07T08:36:02.397809Z",
     "iopub.status.busy": "2021-05-07T08:36:02.395328Z",
     "iopub.status.idle": "2021-05-07T08:36:02.402500Z",
     "shell.execute_reply": "2021-05-07T08:36:02.401801Z"
    },
    "papermill": {
     "duration": 0.065332,
     "end_time": "2021-05-07T08:36:02.402644",
     "exception": false,
     "start_time": "2021-05-07T08:36:02.337312",
     "status": "completed"
    },
    "tags": []
   },
   "outputs": [],
   "source": [
    "# Task 14: Boolean index (or where searching) can be done for pandas dataframe. Get a summary of statistics for the the calls having 1 as Churn\n",
    "# Your code here"
   ]
  },
  {
   "cell_type": "code",
   "execution_count": 15,
   "id": "smart-nevada",
   "metadata": {
    "_uuid": "126e527e04c244c71edd9eac3abcc4a0a8bcd2cb",
    "papermill": {
     "duration": 0.050421,
     "end_time": "2021-05-07T08:36:02.504910",
     "exception": false,
     "start_time": "2021-05-07T08:36:02.454489",
     "status": "completed"
    },
    "pycharm": {
     "name": "#%%\n"
    },
    "tags": []
   },
   "outputs": [],
   "source": [
    "# Task 15: Answer how much time (on average) do churned users spend on the phone during daytime?\n",
    "# Your code here\n",
    "\n",
    "# Expected Output\n",
    "# Average total day 206.91 minutes"
   ]
  },
  {
   "cell_type": "code",
   "execution_count": 16,
   "id": "f2c8be83",
   "metadata": {
    "pycharm": {
     "name": "#%%\n"
    }
   },
   "outputs": [],
   "source": [
    "# Task 16: Answer what is the maximum length of international calls among loyal users (`Churn == 0`) who do not have an international plan?\n",
    "# Your code here\n",
    "\n",
    "# Expected Output\n",
    "# 18.9 minutes"
   ]
  },
  {
   "cell_type": "code",
   "execution_count": 17,
   "id": "seasonal-minority",
   "metadata": {
    "_uuid": "69353301d299fd09c3114afef0778693a163418e",
    "papermill": {
     "duration": 0.052485,
     "end_time": "2021-05-07T08:36:02.968770",
     "exception": false,
     "start_time": "2021-05-07T08:36:02.916285",
     "status": "completed"
    },
    "pycharm": {
     "name": "#%%\n"
    },
    "tags": []
   },
   "outputs": [],
   "source": [
    "# Task 17: Give the values of the rows with index from 0 to 5 (inclusive) and columns labeled from State to Area Code\n",
    "# You code here\n",
    "\n",
    "# Expected Output\n",
    "#   | State | Account length | Area code\n",
    "# 0 | KS    | 128            |       415\n",
    "# 1 | OH    | 107            |       415\n",
    "# 2 | NJ    | 137            |       415\n",
    "# 3 | OH    |  84            |       408\n",
    "# 4 | OK    |  75            |       415\n",
    "# 5 | AL    | 118            |       510"
   ]
  },
  {
   "cell_type": "code",
   "execution_count": 18,
   "id": "hollywood-seven",
   "metadata": {
    "_uuid": "0088ea1feeb310133ff979007bbf10f27554faee",
    "execution": {
     "iopub.execute_input": "2021-05-07T08:36:03.208145Z",
     "iopub.status.busy": "2021-05-07T08:36:03.207483Z",
     "iopub.status.idle": "2021-05-07T08:36:03.211391Z",
     "shell.execute_reply": "2021-05-07T08:36:03.210854Z"
    },
    "papermill": {
     "duration": 0.066669,
     "end_time": "2021-05-07T08:36:03.211530",
     "exception": false,
     "start_time": "2021-05-07T08:36:03.144861",
     "status": "completed"
    },
    "tags": []
   },
   "outputs": [],
   "source": [
    "# Task 18: Give the values of the first five rows in the first three columns\n",
    "# Your code here\n",
    "\n",
    "# Expected Output\n",
    "#   | State | Account length | Area code\n",
    "# 0 | KS    | 128            |       415\n",
    "# 1 | OH    | 107            |       415\n",
    "# 2 | NJ    | 137            |       415\n",
    "# 3 | OH    |  84            |       408\n",
    "# 4 | OK    |  75            |       415"
   ]
  },
  {
   "cell_type": "code",
   "execution_count": 19,
   "id": "suited-boston",
   "metadata": {
    "_uuid": "c809a62f4d1077993a0f0f2d36d1066c108ca23d",
    "execution": {
     "iopub.execute_input": "2021-05-07T08:36:07.141509Z",
     "iopub.status.busy": "2021-05-07T08:36:07.140756Z",
     "iopub.status.idle": "2021-05-07T08:36:08.112015Z",
     "shell.execute_reply": "2021-05-07T08:36:08.112554Z"
    },
    "papermill": {
     "duration": 1.038479,
     "end_time": "2021-05-07T08:36:08.112754",
     "exception": false,
     "start_time": "2021-05-07T08:36:07.074275",
     "status": "completed"
    },
    "tags": []
   },
   "outputs": [],
   "source": [
    "# Task 17: Install the seaborn library directly from the notebook. Use pip to install it\n",
    "# Your code here"
   ]
  },
  {
   "cell_type": "code",
   "execution_count": 20,
   "id": "cc977f56",
   "metadata": {
    "pycharm": {
     "name": "#%%\n"
    }
   },
   "outputs": [],
   "source": [
    "import seaborn as sns\n",
    "\n",
    "# Graphics in retina format are more sharp and legible\n",
    "%config InlineBackend.figure_format = 'retina'"
   ]
  },
  {
   "cell_type": "code",
   "execution_count": 21,
   "id": "middle-broadcast",
   "metadata": {
    "_uuid": "ae3bb6cdde2a6d72112e6076d92b35f2f2caaa3e",
    "execution": {
     "iopub.execute_input": "2021-05-07T08:36:08.244679Z",
     "iopub.status.busy": "2021-05-07T08:36:08.243948Z",
     "iopub.status.idle": "2021-05-07T08:36:08.441927Z",
     "shell.execute_reply": "2021-05-07T08:36:08.441208Z"
    },
    "papermill": {
     "duration": 0.264496,
     "end_time": "2021-05-07T08:36:08.442097",
     "exception": false,
     "start_time": "2021-05-07T08:36:08.177601",
     "status": "completed"
    },
    "tags": []
   },
   "outputs": [],
   "source": [
    "# Task 18: Use a count plot from seaborn to show the International Plan split by Churn values\n",
    "# Your code here"
   ]
  },
  {
   "cell_type": "code",
   "execution_count": 22,
   "id": "recognized-sunday",
   "metadata": {
    "_uuid": "75cf7fe86ae75e01d49a07fb52fe5c8ce1c6a334",
    "execution": {
     "iopub.execute_input": "2021-05-07T08:36:08.715170Z",
     "iopub.status.busy": "2021-05-07T08:36:08.714500Z",
     "iopub.status.idle": "2021-05-07T08:36:08.767848Z",
     "shell.execute_reply": "2021-05-07T08:36:08.768395Z"
    },
    "papermill": {
     "duration": 0.127022,
     "end_time": "2021-05-07T08:36:08.768579",
     "exception": false,
     "start_time": "2021-05-07T08:36:08.641557",
     "status": "completed"
    },
    "tags": []
   },
   "outputs": [],
   "source": [
    "# Task 19: Display the Customer Service Calls split by Churn value in a table. Use pandas function to do it\n",
    "# Your code here\n",
    "\n",
    "# Customer service calls |    0 |    1 |    2 |    3 |    4 |    5 |    6 |    7 |    8 |    9 |  All\n",
    "# Churn                  |      |      |      |      |      |      |      |      |      |      |\n",
    "#                      0 |  605 | 1059 |  672 |  385 |   90 |   26 |    8 |    4 |    1 |    0 |  2850\n",
    "#                      1 |   92 |  122 |   87 |   44 |   76 |   40 |   14 |    5 |    1 |    2 |   483\n",
    "#                    All |  697 | 1181 |  759 |  429 |  166 |   66 |   22 |    9 |    2 |    2 |  3333"
   ]
  },
  {
   "cell_type": "code",
   "execution_count": null,
   "id": "statistical-nylon",
   "metadata": {
    "_uuid": "37b91ac20b481d221d97515aa46c9cda713a6991",
    "execution": {
     "iopub.execute_input": "2021-05-07T08:36:09.429250Z",
     "iopub.status.busy": "2021-05-07T08:36:09.428514Z",
     "iopub.status.idle": "2021-05-07T08:36:09.477478Z",
     "shell.execute_reply": "2021-05-07T08:36:09.478009Z"
    },
    "papermill": {
     "duration": 0.119036,
     "end_time": "2021-05-07T08:36:09.478236",
     "exception": false,
     "start_time": "2021-05-07T08:36:09.359200",
     "status": "completed"
    },
    "pycharm": {
     "is_executing": true,
     "name": "#%%\n"
    },
    "tags": []
   },
   "outputs": [],
   "source": [
    "# Task 20: Explain in a Markdown below the following code the working logic of the code. For example, what the 'where searching' select from the dataframe df\n",
    "df[\"Many_service_calls\"] = (df[\"Customer service calls\"] > 3).astype(\"int\")\n",
    "sns.countplot(x=\"Many_service_calls\", hue=\"Churn\", data=df);"
   ]
  }
 ],
 "metadata": {
  "kernelspec": {
   "display_name": "Python 3 (ipykernel)",
   "language": "python",
   "name": "python3"
  },
  "language_info": {
   "codemirror_mode": {
    "name": "ipython",
    "version": 3
   },
   "file_extension": ".py",
   "mimetype": "text/x-python",
   "name": "python",
   "nbconvert_exporter": "python",
   "pygments_lexer": "ipython3",
   "version": "3.8.13"
  },
  "papermill": {
   "default_parameters": {},
   "duration": 18.526667,
   "end_time": "2021-05-07T08:36:10.909084",
   "environment_variables": {},
   "exception": null,
   "input_path": "__notebook__.ipynb",
   "output_path": "__notebook__.ipynb",
   "parameters": {},
   "start_time": "2021-05-07T08:35:52.382417",
   "version": "2.3.2"
  }
 },
 "nbformat": 4,
 "nbformat_minor": 5
}
